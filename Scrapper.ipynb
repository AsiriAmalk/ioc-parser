{
 "cells": [
  {
   "cell_type": "code",
   "execution_count": 5,
   "metadata": {},
   "outputs": [
    {
     "name": "stdout",
     "output_type": "stream",
     "text": [
      "['macros', 'macros-on-open', 'emotet-doc', 'emotet', 'generated-doc', 'opendir', 'loader', 'trojan']\n"
     ]
    }
   ],
   "source": [
    "\n",
    "from bs4 import BeautifulSoup\n",
    "\n",
    "soup = BeautifulSoup(open(\"mal1.html\"), \"html.parser\")\n",
    "sections = soup.find_all(\"section\")\n",
    "section = sections[0]\n",
    "dls = section.find_all(\"dl\")\n",
    "\n",
    "section_name = section.find(\"h3\").text.replace(\"\\n\", \"\")\n",
    "section_dict = {}\n",
    "for i in range(len(dls)):\n",
    "#     print(i)\n",
    "    dl = dls[i]\n",
    "    key_ = dl.find(\"dt\").text\n",
    "    value_ = dl.find(\"dd\").text.rsplit()\n",
    "    section_dict[key_] = value_\n",
    "\n",
    "print(section_dict[\"Tags:\"])"
   ]
  },
  {
   "cell_type": "code",
   "execution_count": 6,
   "metadata": {},
   "outputs": [
    {
     "data": {
      "text/plain": [
       "['macros',\n",
       " 'macros-on-open',\n",
       " 'emotet-doc',\n",
       " 'emotet',\n",
       " 'generated-doc',\n",
       " 'opendir',\n",
       " 'loader',\n",
       " 'trojan']"
      ]
     },
     "execution_count": 6,
     "metadata": {},
     "output_type": "execute_result"
    }
   ],
   "source": [
    "section_dict[\"Tags:\"]"
   ]
  },
  {
   "cell_type": "code",
   "execution_count": 34,
   "metadata": {},
   "outputs": [],
   "source": [
    "categories = {'ransomware', 'adware', 'spyware', 'worm', 'rootkit', 'trojan', 'backdoor'}\n",
    "tag_dict = {\"family\": \"\", \"category\": \"\"}"
   ]
  },
  {
   "cell_type": "code",
   "execution_count": 36,
   "metadata": {},
   "outputs": [
    {
     "name": "stdout",
     "output_type": "stream",
     "text": [
      "1\n"
     ]
    }
   ],
   "source": [
    "matches = categories&set(section_dict[\"Tags:\"])\n",
    "length = len(matches)\n",
    "print(length)"
   ]
  },
  {
   "cell_type": "code",
   "execution_count": 38,
   "metadata": {},
   "outputs": [
    {
     "data": {
      "text/plain": [
       "{'emotet',\n",
       " 'emotet-doc',\n",
       " 'generated-doc',\n",
       " 'loader',\n",
       " 'macros',\n",
       " 'macros-on-open',\n",
       " 'opendir'}"
      ]
     },
     "execution_count": 38,
     "metadata": {},
     "output_type": "execute_result"
    }
   ],
   "source": [
    "set(section_dict[\"Tags:\"])-categories"
   ]
  },
  {
   "cell_type": "code",
   "execution_count": 33,
   "metadata": {},
   "outputs": [
    {
     "data": {
      "text/plain": [
       "'trojan'"
      ]
     },
     "execution_count": 33,
     "metadata": {},
     "output_type": "execute_result"
    }
   ],
   "source": [
    "\n",
    "list(matches)[0]"
   ]
  },
  {
   "cell_type": "code",
   "execution_count": 42,
   "metadata": {},
   "outputs": [],
   "source": [
    "categories = {'ransomware', 'adware', 'spyware', 'worm', 'rootkit', 'trojan', 'backdoor'}\n",
    "tag_dict = {\"family\": \"\", \"category\": \"\"}\n",
    "\n",
    "matches = categories&set(section_dict[\"Tags:\"])\n",
    "length = len(matches)\n",
    "\n",
    "if length == 0:\n",
    "    tag_dict[\"family\"] = {\"unknown\"}\n",
    "    tag_dict[\"category\"] = {\"unknown\"}\n",
    "elif length == 1:\n",
    "    tag_dict[\"family\"] = {\"unknown\"}\n",
    "    tag_dict[\"category\"] = list(matches)\n",
    "elif length == 2:\n",
    "    tag_dict[\"family\"] = {\"unknown\"}\n",
    "    tag_dict[\"category\"] = list(matches)\n",
    "else:\n",
    "    tag_dict[\"family\"] = set(section_dict[\"Tags:\"])-categories\n",
    "    tag_dict[\"category\"] = list(matches) "
   ]
  },
  {
   "cell_type": "code",
   "execution_count": 44,
   "metadata": {},
   "outputs": [
    {
     "name": "stdout",
     "output_type": "stream",
     "text": [
      "mal1.html       1       TAG    unknown\n",
      "mal1.html       1       TAG    trojan\n"
     ]
    }
   ],
   "source": [
    "for tag in section_dict[\"Tags:\"]:\n",
    "    print(\"mal1.html       1       TAG    \"+tag)\n",
    "\n",
    "for family in tag_dict[\"family\"] :\n",
    "    print(\"mal1.html       1       TAG    \"+family)\n",
    "    \n",
    "for cat in tag_dict[\"category\"] :\n",
    "    print(\"mal1.html       1       TAG    \"+cat)"
   ]
  },
  {
   "cell_type": "code",
   "execution_count": 13,
   "metadata": {},
   "outputs": [
    {
     "name": "stdout",
     "output_type": "stream",
     "text": [
      "trojan\n"
     ]
    }
   ],
   "source": [
    "\n",
    "\n",
    "for tag in section_dict[\"Tags:\"]:\n",
    "#     print(tag)\n",
    "    if tag in categories:\n",
    "        print(tag)"
   ]
  },
  {
   "cell_type": "code",
   "execution_count": 9,
   "metadata": {},
   "outputs": [
    {
     "name": "stdout",
     "output_type": "stream",
     "text": [
      "mal1.html       1       TAG    macros\n",
      "mal1.html       1       TAG    macros-on-open\n",
      "mal1.html       1       TAG    emotet-doc\n",
      "mal1.html       1       TAG    emotet\n",
      "mal1.html       1       TAG    generated-doc\n",
      "mal1.html       1       TAG    opendir\n",
      "mal1.html       1       TAG    loader\n",
      "mal1.html       1       TAG    trojan\n"
     ]
    }
   ],
   "source": [
    "for tag in section_dict[\"Tags:\"]:\n",
    "    print(\"mal1.html       1       TAG    \"+tag)"
   ]
  }
 ],
 "metadata": {
  "kernelspec": {
   "display_name": "Python 3",
   "language": "python",
   "name": "python3"
  },
  "language_info": {
   "codemirror_mode": {
    "name": "ipython",
    "version": 3
   },
   "file_extension": ".py",
   "mimetype": "text/x-python",
   "name": "python",
   "nbconvert_exporter": "python",
   "pygments_lexer": "ipython3",
   "version": "3.8.2"
  }
 },
 "nbformat": 4,
 "nbformat_minor": 4
}
