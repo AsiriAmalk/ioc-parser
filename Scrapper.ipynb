{
 "cells": [
  {
   "cell_type": "code",
   "execution_count": 5,
   "metadata": {},
   "outputs": [
    {
     "name": "stdout",
     "output_type": "stream",
     "text": [
      "['macros', 'macros-on-open', 'emotet-doc', 'emotet', 'generated-doc', 'opendir', 'loader', 'trojan']\n"
     ]
    }
   ],
   "source": [
    "\n",
    "from bs4 import BeautifulSoup\n",
    "\n",
    "soup = BeautifulSoup(open(\"mal1.html\"), \"html.parser\")\n",
    "sections = soup.find_all(\"section\")\n",
    "section = sections[0]\n",
    "dls = section.find_all(\"dl\")\n",
    "\n",
    "section_name = section.find(\"h3\").text.replace(\"\\n\", \"\")\n",
    "section_dict = {}\n",
    "for i in range(len(dls)):\n",
    "#     print(i)\n",
    "    dl = dls[i]\n",
    "    key_ = dl.find(\"dt\").text\n",
    "    value_ = dl.find(\"dd\").text.rsplit()\n",
    "    section_dict[key_] = value_\n",
    "\n",
    "print(section_dict[\"Tags:\"])"
   ]
  },
  {
   "cell_type": "code",
   "execution_count": 6,
   "metadata": {},
   "outputs": [
    {
     "data": {
      "text/plain": [
       "['macros',\n",
       " 'macros-on-open',\n",
       " 'emotet-doc',\n",
       " 'emotet',\n",
       " 'generated-doc',\n",
       " 'opendir',\n",
       " 'loader',\n",
       " 'trojan']"
      ]
     },
     "execution_count": 6,
     "metadata": {},
     "output_type": "execute_result"
    }
   ],
   "source": [
    "section_dict[\"Tags:\"]"
   ]
  },
  {
   "cell_type": "code",
   "execution_count": 34,
   "metadata": {},
   "outputs": [],
   "source": [
    "categories = {'ransomware', 'adware', 'spyware', 'worm', 'rootkit', 'trojan', 'backdoor'}\n",
    "tag_dict = {\"family\": \"\", \"category\": \"\"}"
   ]
  },
  {
   "cell_type": "code",
   "execution_count": 36,
   "metadata": {},
   "outputs": [
    {
     "name": "stdout",
     "output_type": "stream",
     "text": [
      "1\n"
     ]
    }
   ],
   "source": [
    "matches = categories&set(section_dict[\"Tags:\"])\n",
    "length = len(matches)\n",
    "print(length)"
   ]
  },
  {
   "cell_type": "code",
   "execution_count": 38,
   "metadata": {},
   "outputs": [
    {
     "data": {
      "text/plain": [
       "{'emotet',\n",
       " 'emotet-doc',\n",
       " 'generated-doc',\n",
       " 'loader',\n",
       " 'macros',\n",
       " 'macros-on-open',\n",
       " 'opendir'}"
      ]
     },
     "execution_count": 38,
     "metadata": {},
     "output_type": "execute_result"
    }
   ],
   "source": [
    "set(section_dict[\"Tags:\"])-categories"
   ]
  },
  {
   "cell_type": "code",
   "execution_count": 14,
   "metadata": {},
   "outputs": [],
   "source": [
    "l1 = [1,2,3,4]\n",
    "l2 = [\"a\", \"b\", \"c\", \"d\"]"
   ]
  },
  {
   "cell_type": "code",
   "execution_count": 19,
   "metadata": {},
   "outputs": [
    {
     "data": {
      "text/html": [
       "<div>\n",
       "<style scoped>\n",
       "    .dataframe tbody tr th:only-of-type {\n",
       "        vertical-align: middle;\n",
       "    }\n",
       "\n",
       "    .dataframe tbody tr th {\n",
       "        vertical-align: top;\n",
       "    }\n",
       "\n",
       "    .dataframe thead th {\n",
       "        text-align: right;\n",
       "    }\n",
       "</style>\n",
       "<table border=\"1\" class=\"dataframe\">\n",
       "  <thead>\n",
       "    <tr style=\"text-align: right;\">\n",
       "      <th></th>\n",
       "      <th>Name</th>\n",
       "      <th>val</th>\n",
       "    </tr>\n",
       "  </thead>\n",
       "  <tbody>\n",
       "    <tr>\n",
       "      <th>0</th>\n",
       "      <td>1</td>\n",
       "      <td>a</td>\n",
       "    </tr>\n",
       "    <tr>\n",
       "      <th>1</th>\n",
       "      <td>2</td>\n",
       "      <td>b</td>\n",
       "    </tr>\n",
       "    <tr>\n",
       "      <th>2</th>\n",
       "      <td>3</td>\n",
       "      <td>c</td>\n",
       "    </tr>\n",
       "    <tr>\n",
       "      <th>3</th>\n",
       "      <td>4</td>\n",
       "      <td>d</td>\n",
       "    </tr>\n",
       "  </tbody>\n",
       "</table>\n",
       "</div>"
      ],
      "text/plain": [
       "   Name val\n",
       "0     1   a\n",
       "1     2   b\n",
       "2     3   c\n",
       "3     4   d"
      ]
     },
     "execution_count": 19,
     "metadata": {},
     "output_type": "execute_result"
    }
   ],
   "source": [
    " \n",
    "# list of strings \n",
    "lst = ['Geeks', 'For', 'Geeks', 'is', 'portal', 'for', 'Geeks'] \n",
    "  \n",
    "# list of int \n",
    "lst2 = [11, 22, 33, 44, 55, 66, 77] \n",
    "  \n",
    "# Calling DataFrame constructor after zipping \n",
    "# both lists, with columns specified \n",
    "df = pd.DataFrame(list(zip(l1, l2)), \n",
    "               columns =['Name', 'val']) \n",
    "df "
   ]
  },
  {
   "cell_type": "code",
   "execution_count": null,
   "metadata": {},
   "outputs": [],
   "source": []
  },
  {
   "cell_type": "code",
   "execution_count": 33,
   "metadata": {},
   "outputs": [
    {
     "data": {
      "text/plain": [
       "'trojan'"
      ]
     },
     "execution_count": 33,
     "metadata": {},
     "output_type": "execute_result"
    }
   ],
   "source": [
    "\n",
    "list(matches)[0]"
   ]
  },
  {
   "cell_type": "code",
   "execution_count": 42,
   "metadata": {},
   "outputs": [],
   "source": [
    "categories = {'ransomware', 'adware', 'spyware', 'worm', 'rootkit', 'trojan', 'backdoor'}\n",
    "tag_dict = {\"family\": \"\", \"category\": \"\"}\n",
    "\n",
    "matches = categories&set(section_dict[\"Tags:\"])\n",
    "length = len(matches)\n",
    "\n",
    "if length == 0:\n",
    "    tag_dict[\"family\"] = {\"unknown\"}\n",
    "    tag_dict[\"category\"] = {\"unknown\"}\n",
    "elif length == 1:\n",
    "    tag_dict[\"family\"] = {\"unknown\"}\n",
    "    tag_dict[\"category\"] = list(matches)\n",
    "elif length == 2:\n",
    "    tag_dict[\"family\"] = {\"unknown\"}\n",
    "    tag_dict[\"category\"] = list(matches)\n",
    "else:\n",
    "    tag_dict[\"family\"] = set(section_dict[\"Tags:\"])-categories\n",
    "    tag_dict[\"category\"] = list(matches) "
   ]
  },
  {
   "cell_type": "code",
   "execution_count": 44,
   "metadata": {},
   "outputs": [
    {
     "name": "stdout",
     "output_type": "stream",
     "text": [
      "mal1.html       1       TAG    unknown\n",
      "mal1.html       1       TAG    trojan\n"
     ]
    }
   ],
   "source": [
    "for tag in section_dict[\"Tags:\"]:\n",
    "    print(\"mal1.html       1       TAG    \"+tag)\n",
    "\n",
    "for family in tag_dict[\"family\"] :\n",
    "    print(\"mal1.html       1       TAG    \"+family)\n",
    "    \n",
    "for cat in tag_dict[\"category\"] :\n",
    "    print(\"mal1.html       1       TAG    \"+cat)"
   ]
  },
  {
   "cell_type": "code",
   "execution_count": 13,
   "metadata": {},
   "outputs": [
    {
     "name": "stdout",
     "output_type": "stream",
     "text": [
      "trojan\n"
     ]
    }
   ],
   "source": [
    "\n",
    "\n",
    "for tag in section_dict[\"Tags:\"]:\n",
    "#     print(tag)\n",
    "    if tag in categories:\n",
    "        print(tag)"
   ]
  },
  {
   "cell_type": "code",
   "execution_count": 9,
   "metadata": {},
   "outputs": [
    {
     "name": "stdout",
     "output_type": "stream",
     "text": [
      "mal1.html       1       TAG    macros\n",
      "mal1.html       1       TAG    macros-on-open\n",
      "mal1.html       1       TAG    emotet-doc\n",
      "mal1.html       1       TAG    emotet\n",
      "mal1.html       1       TAG    generated-doc\n",
      "mal1.html       1       TAG    opendir\n",
      "mal1.html       1       TAG    loader\n",
      "mal1.html       1       TAG    trojan\n"
     ]
    }
   ],
   "source": [
    "for tag in section_dict[\"Tags:\"]:\n",
    "    print(\"mal1.html       1       TAG    \"+tag)"
   ]
  },
  {
   "cell_type": "code",
   "execution_count": 1,
   "metadata": {},
   "outputs": [],
   "source": [
    "import os\n",
    "import sys\n",
    "import csv\n",
    "import json\n",
    "\n",
    "OUTPUT_FORMATS = ('csv', 'json', 'yara', 'autofocus')\n",
    "\n",
    "def getHandler(output_format):\n",
    "    output_format = output_format.lower()\n",
    "    if output_format not in OUTPUT_FORMATS:\n",
    "        print(\"[WARNING] Invalid output format specified.. using CSV\")\n",
    "        output_format = 'csv'\n",
    "\n",
    "    handler_format = \"OutputHandler_\" + output_format\n",
    "    handler_class = getattr(sys.modules[__name__], handler_format)\n",
    "\n",
    "    return handler_class()\n",
    "\n",
    "class OutputHandler(object):\n",
    "    def print_match(self, fpath, page, name, match, last = False):\n",
    "        pass\n",
    "\n",
    "    def print_header(self, fpath):\n",
    "        pass\n",
    "\n",
    "    def print_footer(self, fpath):\n",
    "        pass\n",
    "\n",
    "    def print_error(self, fpath, exception):\n",
    "        print(\"[ERROR] %s\" % (exception))\n",
    "\n",
    "class OutputHandler_csv(OutputHandler):\n",
    "    def __init__(self):\n",
    "        self.csv_writer = csv.writer(sys.stdout, delimiter = '\\t')\n",
    "\n",
    "    def print_match(self, fpath, page, name, match):\n",
    "        self.csv_writer.writerow((fpath, page, name, match))\n",
    "\n",
    "    def print_error(self, fpath, exception):\n",
    "        self.csv_writer.writerow((fpath, '0', 'error', exception))\n",
    "\n",
    "class OutputHandler_json(OutputHandler):\n",
    "    def print_match(self, fpath, page, name, match):\n",
    "        data = {\n",
    "            'path' : fpath,\n",
    "            'file' : os.path.basename(fpath),\n",
    "            'page' : page,\n",
    "            'type' : name,\n",
    "            'match': match\n",
    "        }\n",
    "\n",
    "        print(json.dumps(data))\n",
    "\n",
    "    def print_error(self, fpath, exception):\n",
    "        data = {\n",
    "            'path'      : fpath,\n",
    "            'file'      : os.path.basename(fpath),\n",
    "            'type'      : 'error',\n",
    "            'exception' : exception\n",
    "        }\n",
    "\n",
    "        print(json.dumps(data))\n",
    "\n",
    "class OutputHandler_yara(OutputHandler):\n",
    "    def __init__(self):\n",
    "        self.rule_enc = ''.join(chr(c) if chr(c).isupper() or chr(c).islower() or chr(c).isdigit() else '_' for c in range(256))\n",
    "\n",
    "    def print_match(self, fpath, page, name, match):\n",
    "        if name in self.cnt:\n",
    "            self.cnt[name] += 1\n",
    "        else:\n",
    "            self.cnt[name] = 1\n",
    "        \n",
    "        string_id = \"$%s%d\" % (name, self.cnt[name])\n",
    "        self.sids.append(string_id)\n",
    "        string_value = match.replace('\\\\', '\\\\\\\\')\n",
    "        # print(\"\\t\\t%s = \\\"%s\\\"\" % (string_id, string_value))\n",
    "\n",
    "    def print_header(self, fpath):\n",
    "        rule_name = os.path.splitext(os.path.basename(fpath))[0].translate(self.rule_enc)\n",
    "        #\n",
    "        # print(\"rule %s\" % (rule_name))\n",
    "        # print(\"{\")\n",
    "        # print(\"\\tstrings:\")\n",
    "        #\n",
    "        # self.cnt = {}\n",
    "        # self.sids = []\n",
    "\n",
    "    def print_footer(self, fpath):\n",
    "        cond = ' or '.join(self.sids)\n",
    "        #\n",
    "        # print(\"\\tcondition:\")\n",
    "        # print(\"\\t\\t\" + cond)\n",
    "        # print(\"}\")\n",
    "\n",
    "class OutputHandler_autofocus(OutputHandler):\n",
    "    def __init__(self):\n",
    "        self.rule_enc = ''.join(chr(c) if chr(c).isupper() or chr(c).islower() or chr(c).isdigit() else '_' for c in range(256))\n",
    "\n",
    "    def print_match(self, fpath, page, name, match):\n",
    "        string_value = match.replace('hxxp', 'http').replace('\\\\', '\\\\\\\\')\n",
    "\n",
    "        # if name == \"MD5\":\n",
    "        #     auto_focus_query = '{\"field\":\"sample.md5\",\"operator\":\"is\",\"value\":\\\"%s\\\"},' % (string_value)\n",
    "        # elif name == \"SHA1\":\n",
    "        #     auto_focus_query = '{\"field\":\"sample.sha1\",\"operator\":\"is\",\"value\":\\\"%s\\\"},' % (string_value)\n",
    "        # elif name == \"SHA256\":\n",
    "        #     auto_focus_query = '{\"field\":\"sample.sha256\",\"operator\":\"is\",\"value\":\\\"%s\\\"},' % (string_value)\n",
    "        # elif name == \"Tag\":\n",
    "        #     auto_focus_query = '{\"field\":\"sample.sha256\",\"operator\":\"is\",\"value\":\\\"%s\\\"},' % (string_value)\n",
    "        # elif name == \"URL\":\n",
    "        #     auto_focus_query = '{\"field\":\"sample.tasks.connection\",\"operator\":\"contains\",\"value\":\\\"%s\\\"},' % (string_value)\n",
    "        # elif name == \"Host\":\n",
    "        #     auto_focus_query = '{\"field\":\"sample.tasks.dns\",\"operator\":\"contains\",\"value\":\\\"%s\\\"},' % (string_value)\n",
    "        # elif name == \"Registry\":\n",
    "        #     #auto_focus_query = '{\"field\":\"sample.tasks.registry\",\"operator\":\"is\",\"value\":\\\"%s\\\"},' % (string_value)\n",
    "        #     return\n",
    "        # elif name == \"Filepath\":\n",
    "        #     #auto_focus_query = '{\"field\":\"sample.tasks.file\",\"operator\":\"is\",\"value\":\\\"%s\\\"},' % (string_value)\n",
    "        #     return\n",
    "        # elif name == \"Filename\":\n",
    "        #     #auto_focus_query = '{\"field\":\"alias.filename\",\"operator\":\"is\",\"value\":\\\"%s\\\"},' % (string_value)\n",
    "        #     return\n",
    "        # elif name == \"Email\":\n",
    "        #     #auto_focus_query = '{\"field\":\"alias.email\",\"operator\":\"is\",\"value\":\\\"%s\\\"},' % (string_value)\n",
    "        #     return\n",
    "        # elif name == \"IP\":\n",
    "        #     auto_focus_query = '{\"field\":\"sample.tasks.connection\",\"operator\":\"contains\",\"value\":\\\"%s\\\"},' % (string_value)\n",
    "        # elif name == \"CVE\":\n",
    "        #     return\n",
    "        # print(auto_focus_query)\n",
    "\n",
    "    def print_header(self, fpath):\n",
    "        rule_name = os.path.splitext(os.path.basename(fpath))[0].translate(self.rule_enc)\n",
    "        #\n",
    "        # print(\"AutoFocus Search for: %s\" % (rule_name))\n",
    "        # print('{\"operator\":\"Any\",\"children\":[')\n",
    "\n",
    "\n",
    "    def print_footer(self, fpath):\n",
    "        rule_name = os.path.splitext(os.path.basename(fpath))[0].translate(self.rule_enc)\n",
    "        # print('{\"field\":\"sample.tag\",\"operator\":\"is in the list\",\"value\":[\\\"%s\\\"]}]}' % (rule_name))\n",
    "\n",
    "\n",
    "\n"
   ]
  },
  {
   "cell_type": "code",
   "execution_count": 6,
   "metadata": {},
   "outputs": [],
   "source": [
    "import os\n",
    "import glob\n",
    "import re\n",
    "\n",
    "class WhiteList(dict):\n",
    "    def __init__(self, basedir):\n",
    "        searchdir = os.path.join(basedir, \"whitelists/whitelist_*.ini\")\n",
    "        fpaths = glob.glob(searchdir)\n",
    "        for fpath in fpaths:\n",
    "            t = os.path.splitext(fpath)[0].split('_',1)[1]\n",
    "            patterns = [line.strip() for line in open(fpath)]\n",
    "            self[t]  = [re.compile(p) for p in patterns]"
   ]
  },
  {
   "cell_type": "code",
   "execution_count": 8,
   "metadata": {},
   "outputs": [],
   "source": [
    "import os\n",
    "import sys\n",
    "import fnmatch\n",
    "import argparse\n",
    "import re\n",
    "# from StringIO import StringIO\n",
    "try:\n",
    "    import configparser as ConfigParser\n",
    "except ImportError:\n",
    "    import ConfigParser\n",
    "\n",
    "\n",
    "import pandas as pd\n",
    "from bs4 import BeautifulSoup\n",
    "import requests\n",
    "\n",
    "\n",
    "# Import additional project source files\n",
    "import output\n",
    "# from whitelist import WhiteList"
   ]
  },
  {
   "cell_type": "code",
   "execution_count": 11,
   "metadata": {},
   "outputs": [
    {
     "data": {
      "text/plain": [
       "'/home/asiri/Desktop/malware/ioc-parser'"
      ]
     },
     "execution_count": 11,
     "metadata": {},
     "output_type": "execute_result"
    }
   ],
   "source": [
    "os.path.dirname(os.path.abspath('mal1.html'))"
   ]
  },
  {
   "cell_type": "code",
   "execution_count": 12,
   "metadata": {},
   "outputs": [],
   "source": [
    "class IOC_Parser(object):\n",
    "    patterns = {}\n",
    "\n",
    "    def __init__(self, patterns_ini='/home/asiri/Desktop/malware/ioc-parser/patterns.ini',\n",
    "                 input_format = 'html', output_format='csv', dedup=False, library='pypdf2', path='mal1.html'):\n",
    "        basedir = os.path.dirname(os.path.abspath(path))\n",
    "        self.load_patterns(patterns_ini)\n",
    "        self.whitelist = WhiteList(basedir)\n",
    "        self.handler = output.getHandler(output_format)\n",
    "        self.dedup = dedup\n",
    "\n",
    "        self.ext_filter = \"*.\" + input_format\n",
    "        parser_format = \"parse_\" + input_format\n",
    "        try:\n",
    "            self.parser_func = getattr(self, parser_format)\n",
    "        except AttributeError:\n",
    "            e = 'Selected parser format is not supported: %s' % (input_format)\n",
    "            raise NotImplementedError(e)\n",
    "\n",
    "        self.library = library\n",
    "        if input_format == 'pdf':\n",
    "            if library not in IMPORTS:\n",
    "                e = 'Selected PDF parser library not found: %s' % (library)\n",
    "                raise ImportError(e)\n",
    "        elif input_format == 'html':\n",
    "            if 'beautifulsoup' not in IMPORTS:\n",
    "                e = 'HTML parser library not found: BeautifulSoup'\n",
    "                raise ImportError(e)\n",
    "\n",
    "    def load_patterns(self, fpath):\n",
    "        config = ConfigParser.ConfigParser()\n",
    "        with open(fpath) as f:\n",
    "            config.readfp(f)\n",
    "\n",
    "        for ind_type in config.sections():\n",
    "            try:\n",
    "                ind_pattern = config.get(ind_type, 'pattern')\n",
    "            except:\n",
    "                continue\n",
    "\n",
    "            if ind_pattern:\n",
    "                ind_regex = re.compile(ind_pattern)\n",
    "                self.patterns[ind_type] = ind_regex\n",
    "\n",
    "    def is_whitelisted(self, ind_match, ind_type):\n",
    "        for w in self.whitelist[ind_type]:\n",
    "            if w.findall(ind_match):\n",
    "                return True\n",
    "\n",
    "        return False\n",
    "\n",
    "    def parse_page(self, fpath, data, page_num):\n",
    "        for ind_type, ind_regex in self.patterns.items():\n",
    "            matches = ind_regex.findall(data)\n",
    "\n",
    "            for ind_match in matches:\n",
    "                if isinstance(ind_match, tuple):\n",
    "                    ind_match = ind_match[0]\n",
    "\n",
    "                if self.is_whitelisted(ind_match, ind_type):\n",
    "                    continue\n",
    "\n",
    "                if self.dedup:\n",
    "                    if (ind_type, ind_match) in self.dedup_store:\n",
    "                        continue\n",
    "\n",
    "                    self.dedup_store.add((ind_type, ind_match))\n",
    "\n",
    "                self.handler.print_match(fpath, page_num, ind_type, ind_match)\n",
    "\n",
    "\n",
    "    def parse_html(self, f, fpath):\n",
    "        try:\n",
    "            if self.dedup:\n",
    "                self.dedup_store = set()\n",
    "                \n",
    "            data = f.read()\n",
    "            soup = BeautifulSoup(data, \"html.parser\")\n",
    "            html = soup.findAll(text=True)\n",
    "            sections = soup.find_all(\"section\")\n",
    "            section = sections[0]\n",
    "            dls = section.find_all(\"dl\")\n",
    "\n",
    "            section_name = section.find(\"h3\").text.replace(\"\\n\", \"\")\n",
    "            section_dict = {}\n",
    "            for i in range(len(dls)):\n",
    "                #     print(i)\n",
    "                dl = dls[i]\n",
    "                key_ = dl.find(\"dt\").text\n",
    "                value_ = dl.find(\"dd\").text.rsplit()\n",
    "                section_dict[key_] = value_\n",
    "\n",
    "            categories = {'ransomware', 'adware', 'spyware', 'worm', 'rootkit', 'trojan', 'backdoor'}\n",
    "            tag_dict = {\"family\": \"\", \"category\": \"\"}\n",
    "\n",
    "            matches = categories & set(section_dict[\"Tags:\"])\n",
    "            no_matches = set(section_dict[\"Tags:\"]) - categories\n",
    "\n",
    "            match_length = len(matches)\n",
    "\n",
    "            if match_length == 0:\n",
    "                matches = {\"unknown\"}\n",
    "            if len(no_matches) == 0:\n",
    "                no_matches = {\"unknown\"}\n",
    "\n",
    "            length = len(section_dict[\"Tags:\"])\n",
    "\n",
    "            tag_dict[\"family\"] = list(no_matches)\n",
    "            tag_dict[\"category\"] = list(matches)\n",
    "\n",
    "            # if length == 0:\n",
    "            #     tag_dict[\"family\"] = {\"unknown\"}\n",
    "            #     tag_dict[\"category\"] = {\"unknown\"}\n",
    "            # elif length == 1:\n",
    "            #     tag_dict[\"family\"] = {\"unknown\"}\n",
    "            #     tag_dict[\"category\"] = list(matches)\n",
    "            # elif length == 2:\n",
    "            #     tag_dict[\"family\"] = {\"unknown\"}\n",
    "            #     tag_dict[\"category\"] = list(matches)\n",
    "            # else:\n",
    "            #     tag_dict[\"family\"] = set(section_dict[\"Tags:\"]) - categories\n",
    "            #     tag_dict[\"category\"] = list(matches)\n",
    "            for tag in section_dict[\"Tags:\"]:\n",
    "                print(fpath+\"       1       TAG    \" + tag)\n",
    "\n",
    "            for family in tag_dict[\"family\"]:\n",
    "                print(fpath+\"       1       Family    \" + family)\n",
    "\n",
    "            for cat in tag_dict[\"category\"]:\n",
    "                print(fpath+\"       1       Category    \" + cat)\n",
    "\n",
    "            text = u''\n",
    "            for elem in html:\n",
    "                if elem.parent.name in ['style', 'script', '[document]', 'head', 'title']:\n",
    "                    continue\n",
    "                elif re.match('<!--.*-->', unicode(elem)):\n",
    "                    continue\n",
    "                else:\n",
    "                    text += unicode(elem)\n",
    "\n",
    "            # self.handler.print_header(fpath)\n",
    "            self.parse_page(fpath, text, 1)\n",
    "            # self.handler.print_footer(fpath)\n",
    "        except (KeyboardInterrupt, SystemExit):\n",
    "            raise\n",
    "        except Exception as e:\n",
    "            self.handler.print_error(fpath, e)\n",
    "\n",
    "    def parse(self, path):\n",
    "        try:\n",
    "            if path.startswith('http://') or path.startswith('https://'):\n",
    "                if 'requests' not in IMPORTS:\n",
    "                    e = 'HTTP library not found: requests'\n",
    "                    raise ImportError(e)\n",
    "                headers = { 'User-Agent': 'Mozilla/5.0 Gecko Firefox' }\n",
    "                r = requests.get(path, headers=headers)\n",
    "                r.raise_for_status()\n",
    "                f = StringIO(r.content)\n",
    "                self.parser_func(f, path)\n",
    "                return\n",
    "            elif os.path.isfile(path):\n",
    "                with open(path, 'rb') as f:\n",
    "                    self.parser_func(f, path)\n",
    "                return\n",
    "            elif os.path.isdir(path):\n",
    "                for walk_root, walk_dirs, walk_files in os.walk(path):\n",
    "                    for walk_file in fnmatch.filter(walk_files, self.ext_filter):\n",
    "                        fpath = os.path.join(walk_root, walk_file)\n",
    "                        with open(fpath, 'rb') as f:\n",
    "                            self.parser_func(f, fpath)\n",
    "                return\n",
    "\n",
    "            e = 'File path is not a file, directory or URL: %s' % (path)\n",
    "            raise IOError(e)\n",
    "        except (KeyboardInterrupt, SystemExit):\n",
    "            raise\n",
    "        except Exception as e:\n",
    "            self.handler.print_error(path, e)\n"
   ]
  },
  {
   "cell_type": "code",
   "execution_count": 13,
   "metadata": {},
   "outputs": [
    {
     "name": "stderr",
     "output_type": "stream",
     "text": [
      "<ipython-input-12-b640f723760d>:33: DeprecationWarning: This method will be removed in future versions.  Use 'parser.read_file()' instead.\n",
      "  config.readfp(f)\n"
     ]
    },
    {
     "data": {
      "text/plain": [
       "<__main__.IOC_Parser at 0x7f0ce0ccea00>"
      ]
     },
     "execution_count": 13,
     "metadata": {},
     "output_type": "execute_result"
    }
   ],
   "source": [
    "IOC_Parser()"
   ]
  },
  {
   "cell_type": "code",
   "execution_count": null,
   "metadata": {},
   "outputs": [],
   "source": []
  }
 ],
 "metadata": {
  "kernelspec": {
   "display_name": "Python 3",
   "language": "python",
   "name": "python3"
  },
  "language_info": {
   "codemirror_mode": {
    "name": "ipython",
    "version": 3
   },
   "file_extension": ".py",
   "mimetype": "text/x-python",
   "name": "python",
   "nbconvert_exporter": "python",
   "pygments_lexer": "ipython3",
   "version": "3.8.2"
  }
 },
 "nbformat": 4,
 "nbformat_minor": 4
}
